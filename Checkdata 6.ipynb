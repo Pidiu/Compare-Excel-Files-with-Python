{
 "cells": [
  {
   "cell_type": "code",
   "execution_count": 23,
   "id": "7f17f73e",
   "metadata": {},
   "outputs": [],
   "source": [
    "import pandas as pd\n",
    "import os\n",
    "\n",
    "# Dán đường dẫn đầy đủ tới file excel\n",
    "file_path_1 = r'C:\\Users\\Inter-K Member\\Downloads\\CallCycle_20250418.xlsx'\n",
    "#Kiểm tra đường dẫn \n",
    "if not os.path.exists(file_path_1):\n",
    "    print(f\"Không tìm thấy file: {file_path_1}\")\n",
    "else:\n",
    "    # Đọc dữ liệu\n",
    "    df1 = pd.read_excel(file_path_1)    \n",
    "# Đặt cột 'CustomerId' làm chỉ mục\n",
    "df1.set_index('CustomerId', inplace=True)"
   ]
  },
  {
   "cell_type": "code",
   "execution_count": 26,
   "id": "6cc62c65",
   "metadata": {},
   "outputs": [
    {
     "name": "stdout",
     "output_type": "stream",
     "text": [
      "Có sự khác biệt ở các dòng sau:\n",
      "           StartingWeekAnchorDate            Sequence       VisitFriday       \n",
      "                             self      other     self other        self  other\n",
      "CustomerId                                                                    \n",
      "71358418                      NaT        NaT     33.0   0.0         NaN    NaN\n",
      "71358128                      NaT        NaT     32.0   0.0         NaN    NaN\n",
      "70715244               2025-04-18 2025-04-11      NaN   NaN         NaN    NaN\n",
      "70650852               2025-04-18 2025-04-11      NaN   NaN         NaN    NaN\n",
      "70399587               2025-04-18 2025-04-11      NaN   NaN         NaN    NaN\n",
      "71358414                      NaT        NaT     21.0   0.0         NaN    NaN\n",
      "71358129                      NaT        NaT     30.0   0.0         NaN    NaN\n",
      "71348509               2025-04-17 2025-04-10      NaN   NaN        True  False\n",
      "Kết quả đã được lưu vào 'ket_qua_so_sanh.xlsx'\n",
      "Đối chiếu xong file SP_Callcycle Route ID 09.04.25_PADM2-104825_uploading.xlsx\n",
      "Df2 có 6632 dòng dữ liệu\n",
      "Dữ liệu trùng khớp 6235/6243\n"
     ]
    }
   ],
   "source": [
    "file_path_2 = r'C:\\Users\\Inter-K Member\\Downloads\\SP_Callcycle Route ID 09.04.25_PADM2-104825_uploading.xlsx'\n",
    "# Kiểm tra đường dẫn có tồn tại không\n",
    "if not os.path.exists(file_path_2):\n",
    "    print(f\"Không tìm thấy file: {file_path_2}\")\n",
    "else:\n",
    "    # Đọc dữ liệu\n",
    "    df2 = pd.read_excel(file_path_2)\n",
    "\n",
    "    # Đặt cột 'CustomerId' làm chỉ mục\n",
    "df2.set_index('CustomerId', inplace=True)\n",
    "\n",
    "# Tạo bản sao df1 để giữ nguyên gốc\n",
    "df1_copy = df1.copy()\n",
    "df2_copy = df2.copy()\n",
    "# Giữ lại các ID trùng nhau để so sánh\n",
    "common_ids = df1_copy.index.intersection(df2.index) \n",
    "df1_copy = df1.loc[common_ids]\n",
    "df2_copy = df2.loc[common_ids]\n",
    "# So sánh dữ liệu\n",
    "comparison = df1_copy.compare(df2_copy)\n",
    "count_df2 = len(df2) \n",
    "total_rows = len(common_ids) \n",
    "incorrect_rows = comparison.index.nunique()\n",
    "correct_rows = total_rows - incorrect_rows \n",
    "if common_ids.empty: \n",
    "    print (\"Dữ liệu ở hai file khác nhau\")\n",
    "else:\n",
    "# Xuất kết quả nếu có sai khác\n",
    "    if not comparison.empty:\n",
    "        print(\"Có sự khác biệt ở các dòng sau:\")\n",
    "        print(comparison)\n",
    "    # Lấy danh sách các ID khác biệt và lọc ra các dòng sai\n",
    "        diff_ids = comparison.index.unique()\n",
    "        df2_diff = df2_copy.loc[diff_ids]\n",
    "    # In toàn bộ dòng bị sai trong df2\n",
    "    #with pd.option_context('display.max_rows', None, 'display.max_columns', None):\n",
    "     #print(df2_diff)\n",
    "        df2_diff.to_excel(r'C:\\Users\\Inter-K Member\\Downloads\\ket_qua_so_sanh.xlsx')\n",
    "        print(\"Kết quả đã được lưu vào 'ket_qua_so_sanh.xlsx'\")\n",
    "    else:\n",
    "        print(\"✅ Dữ liệu khớp hoàn toàn theo từng 'CustomerId'.\")\n",
    "    print(f\"Đối chiếu xong file {os.path.basename(file_path_2)}\")\n",
    "    print(f\"Df2 có {count_df2} dòng dữ liệu\")\n",
    "    print(f\"Dữ liệu trùng khớp {correct_rows}/{total_rows}\")"
   ]
  }
 ],
 "metadata": {
  "kernelspec": {
   "display_name": "Python 3",
   "language": "python",
   "name": "python3"
  },
  "language_info": {
   "codemirror_mode": {
    "name": "ipython",
    "version": 3
   },
   "file_extension": ".py",
   "mimetype": "text/x-python",
   "name": "python",
   "nbconvert_exporter": "python",
   "pygments_lexer": "ipython3",
   "version": "3.11.9"
  }
 },
 "nbformat": 4,
 "nbformat_minor": 5
}
